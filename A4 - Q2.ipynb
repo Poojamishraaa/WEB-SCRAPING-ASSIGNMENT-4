{
 "cells": [
  {
   "cell_type": "code",
   "execution_count": 5,
   "id": "6b48db25",
   "metadata": {},
   "outputs": [
    {
     "data": {
      "text/plain": [
       "['ICC WOMENS T20 WORLD CUP 2023',\n",
       " 'ICC WOMENS T20 WORLD CUP 2023',\n",
       " 'AUSTRALIA TOUR OF INDIA TEST SERIES 2022-23',\n",
       " 'ICC WOMENS T20 WORLD CUP 2023',\n",
       " 'ICC WOMENS T20 WORLD CUP 2023',\n",
       " 'AUSTRALIA TOUR OF INDIA TEST SERIES 2022-23',\n",
       " 'AUSTRALIA TOUR OF INDIA TEST SERIES 2022-23']"
      ]
     },
     "execution_count": 5,
     "metadata": {},
     "output_type": "execute_result"
    }
   ],
   "source": [
    "from bs4 import BeautifulSoup\n",
    "from selenium import webdriver\n",
    "driver = webdriver.Chrome()\n",
    "url = \"https://www.bcci.tv/international/fixtures\"\n",
    "driver.get(url)\n",
    "soup = BeautifulSoup(driver.page_source, 'html.parser')\n",
    "driver.quit()\n",
    "\n",
    "MatchTitleArr=[]\n",
    "for i in soup.select('.fixture-tab-inner .fixture-card .fixture-card-top h5.fix-text:nth-child(2)'):\n",
    "    MatchTitle = i.text\n",
    "    MatchTitleArr.append(MatchTitle)\n",
    "\n",
    "MatchTitleArr[0:]\n"
   ]
  },
  {
   "cell_type": "code",
   "execution_count": 9,
   "id": "9a7d8373",
   "metadata": {},
   "outputs": [
    {
     "data": {
      "text/plain": [
       "[' India Women vs Pakistan Women',\n",
       " ' India Women vs West Indies Women',\n",
       " ' India vs Australia',\n",
       " ' England Women vs India Women',\n",
       " ' India Women vs Ireland Women',\n",
       " ' India vs Australia',\n",
       " ' India vs Australia']"
      ]
     },
     "execution_count": 9,
     "metadata": {},
     "output_type": "execute_result"
    }
   ],
   "source": [
    "SeriesArr=[]\n",
    "for j in soup.select('.fixture-card-mid'):\n",
    "    Series = j.text.replace('vs', ' vs ')\n",
    "    SeriesArr.append(Series)\n",
    "\n",
    "SeriesArr[0:]"
   ]
  },
  {
   "cell_type": "code",
   "execution_count": 10,
   "id": "f7bc7b46",
   "metadata": {},
   "outputs": [
    {
     "data": {
      "text/plain": [
       "['1st T20I - Newlands, Cape TownMatch Centre',\n",
       " '2nd  T20I - Newlands, Cape TownMatch Centre',\n",
       " '2nd  Test - Arun Jaitley Stadium, DelhiMatch Centre',\n",
       " \"3rd  T20I - St George's Park, GqeberhaMatch Centre\",\n",
       " \"4th  T20I - St George's Park, GqeberhaMatch Centre\",\n",
       " '3rd  Test - Himachal Pradesh Cricket Association Stadium, DharamsalaMatch Centre',\n",
       " '4th  Test - Narendra Modi Stadium, AhmedabadMatch Centre']"
      ]
     },
     "execution_count": 10,
     "metadata": {},
     "output_type": "execute_result"
    }
   ],
   "source": [
    "PlaceArr=[]\n",
    "for k in soup.select('.fixture-card-bottom'):\n",
    "    Place = k.text.replace('vs', ' vs ')\n",
    "    PlaceArr.append(Place)\n",
    "\n",
    "PlaceArr[0:]"
   ]
  },
  {
   "cell_type": "code",
   "execution_count": 13,
   "id": "acc11dad",
   "metadata": {},
   "outputs": [
    {
     "data": {
      "text/plain": [
       "['12 FEB 2023 Monday',\n",
       " '15 FEB 2023 Monday',\n",
       " '17 FEB 2023 Monday',\n",
       " '18 FEB 2023 Monday',\n",
       " '20 FEB 2023 Monday',\n",
       " '1 MAR 2023 Monday',\n",
       " '9 MAR 2023 Monday']"
      ]
     },
     "execution_count": 13,
     "metadata": {},
     "output_type": "execute_result"
    }
   ],
   "source": [
    "DateArr=[]\n",
    "for l in soup.select('.match-card-left.match-schedule h5.ng-binding'):\n",
    "    Date = l.text\n",
    "    DateArr.append(Date)\n",
    "\n",
    "DateArr[0:]"
   ]
  },
  {
   "cell_type": "code",
   "execution_count": 16,
   "id": "72af54d5",
   "metadata": {},
   "outputs": [
    {
     "data": {
      "text/plain": [
       "['6:30 pm', '6:30 pm', '9:30 am', '6:30 pm', '6:30 pm', '9:30 am', '9:30 am']"
      ]
     },
     "execution_count": 16,
     "metadata": {},
     "output_type": "execute_result"
    }
   ],
   "source": [
    "TimeArr=[]\n",
    "for m in soup.select('.match-card-right.match-schedule h5.ng-binding'):\n",
    "    Time =m.text.replace(' ISTWomen’s U-19 ', '')\n",
    "    TimeArr.append(Time)\n",
    "\n",
    "TimeArr[0:]"
   ]
  },
  {
   "cell_type": "code",
   "execution_count": null,
   "id": "ce48f408",
   "metadata": {},
   "outputs": [],
   "source": []
  }
 ],
 "metadata": {
  "kernelspec": {
   "display_name": "Python 3 (ipykernel)",
   "language": "python",
   "name": "python3"
  },
  "language_info": {
   "codemirror_mode": {
    "name": "ipython",
    "version": 3
   },
   "file_extension": ".py",
   "mimetype": "text/x-python",
   "name": "python",
   "nbconvert_exporter": "python",
   "pygments_lexer": "ipython3",
   "version": "3.9.12"
  }
 },
 "nbformat": 4,
 "nbformat_minor": 5
}
