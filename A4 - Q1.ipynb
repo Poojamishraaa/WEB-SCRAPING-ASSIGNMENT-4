{
 "cells": [
  {
   "cell_type": "code",
   "execution_count": 20,
   "id": "691a016e",
   "metadata": {},
   "outputs": [
    {
     "data": {
      "text/plain": [
       "['1',\n",
       " '2',\n",
       " '3',\n",
       " '4',\n",
       " '5',\n",
       " '6',\n",
       " '7',\n",
       " '8',\n",
       " '9',\n",
       " '10',\n",
       " '11',\n",
       " '12',\n",
       " '13',\n",
       " '14',\n",
       " '15',\n",
       " '16',\n",
       " '17',\n",
       " '18',\n",
       " '19',\n",
       " '20',\n",
       " '21',\n",
       " '22',\n",
       " '23',\n",
       " '24',\n",
       " '25',\n",
       " '26',\n",
       " '27',\n",
       " '28',\n",
       " '29',\n",
       " '30']"
      ]
     },
     "execution_count": 20,
     "metadata": {},
     "output_type": "execute_result"
    }
   ],
   "source": [
    "from autoscraper import AutoScraper\n",
    "from bs4 import BeautifulSoup\n",
    "import requests\n",
    "page=requests.get(\"https://en.wikipedia.org/wiki/List_of_most-viewed_YouTube_videos\")\n",
    "soup=BeautifulSoup(page.content)\n",
    "\n",
    "RankArr=[]\n",
    "for i in soup.select('.mw-body-content table:nth-child(even).wikitable tr td:first-child[align=\"center\"]'):\n",
    "    Rank = i.text.replace('.', '')\n",
    "    RankArr.append(Rank)\n",
    "\n",
    "RankArr[0:]\n",
    "\n"
   ]
  },
  {
   "cell_type": "code",
   "execution_count": 22,
   "id": "f7b0f5c2",
   "metadata": {},
   "outputs": [
    {
     "data": {
      "text/plain": [
       "['Baby Shark Dance',\n",
       " 'Despacito',\n",
       " 'Johny Johny Yes Papa',\n",
       " 'Shape of You',\n",
       " 'See You Again',\n",
       " 'Uptown Funk',\n",
       " 'Gangnam Style',\n",
       " 'Dame Tu Cosita',\n",
       " 'Sugar',\n",
       " 'Axel F',\n",
       " 'Roar',\n",
       " 'Counting Stars',\n",
       " 'Sorry',\n",
       " 'Thinking Out Loud',\n",
       " 'Waka Waka (This Time for Africa)',\n",
       " 'Dark Horse',\n",
       " 'Faded',\n",
       " 'Let Her Go',\n",
       " 'Girls Like You',\n",
       " 'Perfect',\n",
       " 'Bailando',\n",
       " 'Lean On']"
      ]
     },
     "execution_count": 22,
     "metadata": {},
     "output_type": "execute_result"
    }
   ],
   "source": [
    "NameArr=[]\n",
    "for j in soup.select('.mw-body-content table:nth-child(even).wikitable tr td:nth-child(2) > a'):\n",
    "    Name = j.text\n",
    "    NameArr.append(Name)\n",
    "\n",
    "NameArr[0:]"
   ]
  },
  {
   "cell_type": "code",
   "execution_count": 23,
   "id": "bdf7a276",
   "metadata": {},
   "outputs": [
    {
     "data": {
      "text/plain": [
       "[\"Pinkfong Baby Shark - Kids' Songs & Stories\",\n",
       " 'Luis Fonsi',\n",
       " 'Cocomelon – Nursery Rhymes',\n",
       " 'Ed Sheeran',\n",
       " 'Wiz Khalifa',\n",
       " 'ChuChu TV',\n",
       " 'Cocomelon – Nursery Rhymes',\n",
       " 'Mark Ronson',\n",
       " 'Psy',\n",
       " 'El Chombo',\n",
       " 'Maroon 5',\n",
       " 'Crazy Frog',\n",
       " 'Katy Perry',\n",
       " 'OneRepublic',\n",
       " 'Justin Bieber',\n",
       " 'Ed Sheeran',\n",
       " 'Cocomelon – Nursery Rhymes',\n",
       " 'Shakira',\n",
       " 'Katy Perry',\n",
       " 'Alan Walker',\n",
       " 'Passenger',\n",
       " 'Maroon 5',\n",
       " 'Ed Sheeran',\n",
       " 'Enrique Iglesias',\n",
       " 'Major Lazer']"
      ]
     },
     "execution_count": 23,
     "metadata": {},
     "output_type": "execute_result"
    }
   ],
   "source": [
    "ArtistArr=[]\n",
    "for k in soup.select('.mw-body-content table:nth-child(even).wikitable tr td:nth-child(3) a'):\n",
    "    Artist = k.text\n",
    "    ArtistArr.append(Artist)\n",
    "\n",
    "ArtistArr[0:]"
   ]
  },
  {
   "cell_type": "code",
   "execution_count": 24,
   "id": "1dc7392a",
   "metadata": {},
   "outputs": [
    {
     "data": {
      "text/plain": [
       "['June 17, 2016',\n",
       " 'January 12, 2017',\n",
       " 'October 8, 2016',\n",
       " 'May 2, 2018',\n",
       " 'January 30, 2017',\n",
       " 'April 6, 2015',\n",
       " 'March 6, 2014',\n",
       " 'May 24, 2018',\n",
       " 'November 19, 2014',\n",
       " 'February 27, 2018',\n",
       " 'July 15, 2012',\n",
       " 'January 31, 2012',\n",
       " 'April 5, 2018',\n",
       " 'January 14, 2015',\n",
       " 'June 16, 2009',\n",
       " 'September 5, 2013',\n",
       " 'May 31, 2013',\n",
       " 'October 22, 2015',\n",
       " 'October 7, 2014',\n",
       " 'June 25, 2018',\n",
       " 'June 4, 2010',\n",
       " 'February 20, 2014',\n",
       " 'December 3, 2015',\n",
       " 'July 25, 2012',\n",
       " 'May 31, 2018',\n",
       " 'November 9, 2017',\n",
       " 'April 11, 2014',\n",
       " 'March 22, 2015',\n",
       " 'January 26, 2018',\n",
       " 'June 14, 2018']"
      ]
     },
     "execution_count": 24,
     "metadata": {},
     "output_type": "execute_result"
    }
   ],
   "source": [
    "UploadDateArr=[]\n",
    "for l in soup.select('.mw-body-content table:nth-child(even).wikitable tr td:nth-child(5)'):\n",
    "    UploadDate = l.text\n",
    "    UploadDateArr.append(UploadDate)\n",
    "\n",
    "UploadDateArr[0:]"
   ]
  },
  {
   "cell_type": "code",
   "execution_count": 25,
   "id": "570d1443",
   "metadata": {},
   "outputs": [
    {
     "data": {
      "text/plain": [
       "['12.27',\n",
       " '8.08',\n",
       " '6.61',\n",
       " '6.01',\n",
       " '5.91',\n",
       " '5.78',\n",
       " '5.15',\n",
       " '4.92',\n",
       " '4.83',\n",
       " '4.81',\n",
       " '4.69',\n",
       " '4.53',\n",
       " '4.23',\n",
       " '3.82',\n",
       " '3.75',\n",
       " '3.73',\n",
       " '3.72',\n",
       " '3.63',\n",
       " '3.55',\n",
       " '3.49',\n",
       " '3.47',\n",
       " '3.45',\n",
       " '3.40',\n",
       " '3.38',\n",
       " '3.37',\n",
       " '3.37',\n",
       " '3.33',\n",
       " '3.33',\n",
       " '3.30',\n",
       " '3.30']"
      ]
     },
     "execution_count": 25,
     "metadata": {},
     "output_type": "execute_result"
    }
   ],
   "source": [
    "ViewsArr=[]\n",
    "for m in soup.select('.mw-body-content table:nth-child(even).wikitable tr td:nth-child(4)'):\n",
    "    Views = m.text\n",
    "    ViewsArr.append(Views)\n",
    "\n",
    "ViewsArr[0:]"
   ]
  },
  {
   "cell_type": "code",
   "execution_count": null,
   "id": "8d188041",
   "metadata": {},
   "outputs": [],
   "source": []
  }
 ],
 "metadata": {
  "kernelspec": {
   "display_name": "Python 3 (ipykernel)",
   "language": "python",
   "name": "python3"
  },
  "language_info": {
   "codemirror_mode": {
    "name": "ipython",
    "version": 3
   },
   "file_extension": ".py",
   "mimetype": "text/x-python",
   "name": "python",
   "nbconvert_exporter": "python",
   "pygments_lexer": "ipython3",
   "version": "3.9.12"
  }
 },
 "nbformat": 4,
 "nbformat_minor": 5
}
