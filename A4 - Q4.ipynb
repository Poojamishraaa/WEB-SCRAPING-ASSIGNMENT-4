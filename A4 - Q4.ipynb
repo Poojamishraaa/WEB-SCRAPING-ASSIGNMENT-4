{
 "cells": [
  {
   "cell_type": "code",
   "execution_count": 9,
   "id": "ac4feccb",
   "metadata": {},
   "outputs": [
    {
     "data": {
      "text/plain": [
       "['acikkaynak',\n",
       " 'cloudflare',\n",
       " 'jaymody',\n",
       " 'eliaszon',\n",
       " 'uutils',\n",
       " 'rustdesk',\n",
       " 'MichalGeyer',\n",
       " 'pedroslopez',\n",
       " 'djun',\n",
       " 'fuergaosi233',\n",
       " 'TheD1rkMtr',\n",
       " 'eryajf',\n",
       " 'aquasecurity',\n",
       " 'ethereum-optimism',\n",
       " 'nerfstudio-project',\n",
       " 'AIGCT',\n",
       " 'leminlimez',\n",
       " 'PlexPt',\n",
       " 'Shopify',\n",
       " 'Fndroid',\n",
       " 'f',\n",
       " 'enhuiz',\n",
       " 'zhayujie',\n",
       " 'Leizhenpeng',\n",
       " 'activepieces']"
      ]
     },
     "execution_count": 9,
     "metadata": {},
     "output_type": "execute_result"
    }
   ],
   "source": [
    "from bs4 import BeautifulSoup\n",
    "from selenium import webdriver\n",
    "driver = webdriver.Chrome()\n",
    "url = \"https://github.com/trending\"\n",
    "driver.get(url)\n",
    "soup = BeautifulSoup(driver.page_source, 'html.parser')\n",
    "driver.quit()\n",
    "\n",
    "GitTitleArr=[]\n",
    "for i in soup.select('.Box article.Box-row h1.lh-condensed a span'):\n",
    "    GitTitle = i.text.replace('/\\n', ' ').replace('\\n', ' ').strip()\n",
    "    GitTitleArr.append(GitTitle)\n",
    "\n",
    "GitTitleArr[0:]\n"
   ]
  },
  {
   "cell_type": "code",
   "execution_count": 10,
   "id": "849ba114",
   "metadata": {},
   "outputs": [
    {
     "data": {
      "text/plain": [
       "['Wildebeest is an ActivityPub and Mastodon-compatible server',\n",
       " 'An unnecessarily tiny and minimal implementation of GPT-2 in NumPy.',\n",
       " '🏂🏻 程序员海外工作/英文面试手册',\n",
       " 'Cross-platform Rust rewrite of the GNU coreutils',\n",
       " 'Open source virtual / remote desktop infrastructure for everyone! The open source TeamViewer alternative. Display and control your PC and Android devices from anywhere at anytime.',\n",
       " 'Official Pytorch Implementation for “Plug-and-Play Diffusion Features for Text-Driven Image-to-Image Translation”',\n",
       " 'A WhatsApp client library for NodeJS that connects through the WhatsApp Web browser app',\n",
       " '为个人微信接入ChatGPT',\n",
       " 'Use ChatGPT On Wechat via wechaty',\n",
       " 'Loading Remote AES Encrypted PE in memory , Decrypted it and run it',\n",
       " 'ChatGPT机器人在钉钉群聊中交互',\n",
       " 'Find vulnerabilities, misconfigurations, secrets, SBOM in containers, Kubernetes, code repositories, clouds and more',\n",
       " 'On-Chain Data, Utilities, References, and other Analytics on Optimism',\n",
       " 'A collaboration friendly studio for NeRFs',\n",
       " \"This is an application project of 'chatgpt',only applicable to desktop environment.\",\n",
       " 'iOS 14.0-15.7.1 & 16.0-16.1.2 MacDirtyCow ToolBox',\n",
       " \"ChatGPT Java SDK. Lightweight package for interacting with ChatGPT's API by OpenAI. Uses reverse engineered official API. ChatGPT 聊天机器人 Java 版. 开箱即用.\",\n",
       " 'Hydrogen is Shopify’s stack for headless commerce. It provides a set of tools, utilities, and best-in-class examples for building dynamic and performant commerce applications. Hydrogen is designed to dovetail with Remix, Shopify’s full stack web framework, but it also provides a React library portable to other supporting frameworks.',\n",
       " 'A Windows/macOS GUI based on Clash',\n",
       " 'This repo includes ChatGPT prompt curation to use ChatGPT better.',\n",
       " 'An unofficial PyTorch implementation of the audio LM VALL-E',\n",
       " '使用ChatGPT搭建微信聊天机器人，基于OpenAI API和itchat实现。Wechat robot based on ChatGPT, which using OpenAI api and itchat library.',\n",
       " 'Feishu ChatGpt 在飞书上与ChatGPT随时对话~',\n",
       " 'No-code Business Automation Tool. An open source alternative to Zapier.']"
      ]
     },
     "execution_count": 10,
     "metadata": {},
     "output_type": "execute_result"
    }
   ],
   "source": [
    "GitDisArr=[]\n",
    "for i in soup.select('.Box article.Box-row p.col-9.color-fg-muted'):\n",
    "    GitDis = i.text.strip()\n",
    "    GitDisArr.append(GitDis)\n",
    "\n",
    "GitDisArr[0:]"
   ]
  },
  {
   "cell_type": "code",
   "execution_count": 11,
   "id": "e2285105",
   "metadata": {},
   "outputs": [
    {
     "data": {
      "text/plain": [
       "['103',\n",
       " '38',\n",
       " '1,486',\n",
       " '274',\n",
       " '351',\n",
       " '27',\n",
       " '2,166',\n",
       " '128',\n",
       " '13,369',\n",
       " '939',\n",
       " '37,488',\n",
       " '3,375',\n",
       " '333',\n",
       " '14',\n",
       " '8,889',\n",
       " '2,089',\n",
       " '304',\n",
       " '445',\n",
       " '7,384',\n",
       " '1,930',\n",
       " '258',\n",
       " '60',\n",
       " '409',\n",
       " '77',\n",
       " '16,120',\n",
       " '1,573',\n",
       " '39',\n",
       " '19',\n",
       " '3,496',\n",
       " '320',\n",
       " '301',\n",
       " '370',\n",
       " '356',\n",
       " '17',\n",
       " '616',\n",
       " '116',\n",
       " '93',\n",
       " '9',\n",
       " '44,635',\n",
       " '5,649',\n",
       " '23,967',\n",
       " '2,445',\n",
       " '1,142',\n",
       " '168',\n",
       " '2,099',\n",
       " '389',\n",
       " '40',\n",
       " '13',\n",
       " '926',\n",
       " '41']"
      ]
     },
     "execution_count": 11,
     "metadata": {},
     "output_type": "execute_result"
    }
   ],
   "source": [
    "GitCountArr=[]\n",
    "for i in soup.select('.Box .f6.color-fg-muted.mt-2 a.Link--muted.d-inline-block'):\n",
    "    GitCount = i.text.strip()\n",
    "    GitCountArr.append(GitCount)\n",
    "\n",
    "GitCountArr[0:]"
   ]
  },
  {
   "cell_type": "code",
   "execution_count": 12,
   "id": "24c5d758",
   "metadata": {},
   "outputs": [
    {
     "data": {
      "text/plain": [
       "['Go',\n",
       " 'TypeScript',\n",
       " 'Python',\n",
       " 'Rust',\n",
       " 'Rust',\n",
       " 'Python',\n",
       " 'JavaScript',\n",
       " 'Go',\n",
       " 'TypeScript',\n",
       " 'C++',\n",
       " 'Go',\n",
       " 'Go',\n",
       " 'Python',\n",
       " 'Python',\n",
       " 'Swift',\n",
       " 'Java',\n",
       " 'TypeScript',\n",
       " 'HTML',\n",
       " 'Python',\n",
       " 'Python',\n",
       " 'Go',\n",
       " 'TypeScript']"
      ]
     },
     "execution_count": 12,
     "metadata": {},
     "output_type": "execute_result"
    }
   ],
   "source": [
    "ProUsedArr=[]\n",
    "for i in soup.select('.Box .f6.color-fg-muted span[itemprop=\"programmingLanguage\"]'):\n",
    "    ProUsed = i.text.strip()\n",
    "    ProUsedArr.append(ProUsed)\n",
    "\n",
    "ProUsedArr[0:]"
   ]
  },
  {
   "cell_type": "code",
   "execution_count": null,
   "id": "1df452f1",
   "metadata": {},
   "outputs": [],
   "source": []
  }
 ],
 "metadata": {
  "kernelspec": {
   "display_name": "Python 3 (ipykernel)",
   "language": "python",
   "name": "python3"
  },
  "language_info": {
   "codemirror_mode": {
    "name": "ipython",
    "version": 3
   },
   "file_extension": ".py",
   "mimetype": "text/x-python",
   "name": "python",
   "nbconvert_exporter": "python",
   "pygments_lexer": "ipython3",
   "version": "3.9.12"
  }
 },
 "nbformat": 4,
 "nbformat_minor": 5
}
