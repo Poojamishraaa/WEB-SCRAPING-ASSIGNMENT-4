{
 "cells": [
  {
   "cell_type": "code",
   "execution_count": 1,
   "id": "e2b860b1",
   "metadata": {},
   "outputs": [
    {
     "data": {
      "text/plain": [
       "['1',\n",
       " '2',\n",
       " '3',\n",
       " '4',\n",
       " '5',\n",
       " '6',\n",
       " '7',\n",
       " '8',\n",
       " '9',\n",
       " '10',\n",
       " '11',\n",
       " '12',\n",
       " '13',\n",
       " '14',\n",
       " '15',\n",
       " '16',\n",
       " '17',\n",
       " '18',\n",
       " '19',\n",
       " '20',\n",
       " '21',\n",
       " '22',\n",
       " '23',\n",
       " '24',\n",
       " '25',\n",
       " '26',\n",
       " '27',\n",
       " '28',\n",
       " '29',\n",
       " '30',\n",
       " '31',\n",
       " '32',\n",
       " '33']"
      ]
     },
     "execution_count": 1,
     "metadata": {},
     "output_type": "execute_result"
    }
   ],
   "source": [
    "from bs4 import BeautifulSoup\n",
    "from selenium import webdriver\n",
    "driver = webdriver.Chrome()\n",
    "url = \"https://www.statisticstimes.com/economy/india/indian-states-gdp.php\"\n",
    "driver.get(url)\n",
    "soup = BeautifulSoup(driver.page_source, 'html.parser')\n",
    "driver.quit()\n",
    "\n",
    "SRankArr=[]\n",
    "for i in soup.select('table#table_id tbody tr td:nth-child(1)'):\n",
    "    SRank = i.text\n",
    "    SRankArr.append(SRank)\n",
    "\n",
    "SRankArr[0:]\n"
   ]
  },
  {
   "cell_type": "code",
   "execution_count": 2,
   "id": "20141ac3",
   "metadata": {},
   "outputs": [
    {
     "data": {
      "text/plain": [
       "['Maharashtra',\n",
       " 'Tamil Nadu',\n",
       " 'Uttar Pradesh',\n",
       " 'Gujarat',\n",
       " 'Karnataka',\n",
       " 'West Bengal',\n",
       " 'Rajasthan',\n",
       " 'Andhra Pradesh',\n",
       " 'Telangana',\n",
       " 'Madhya Pradesh',\n",
       " 'Kerala',\n",
       " 'Delhi',\n",
       " 'Haryana',\n",
       " 'Bihar',\n",
       " 'Punjab',\n",
       " 'Odisha',\n",
       " 'Assam',\n",
       " 'Chhattisgarh',\n",
       " 'Jharkhand',\n",
       " 'Uttarakhand',\n",
       " 'Jammu & Kashmir',\n",
       " 'Himachal Pradesh',\n",
       " 'Goa',\n",
       " 'Tripura',\n",
       " 'Chandigarh',\n",
       " 'Puducherry',\n",
       " 'Meghalaya',\n",
       " 'Sikkim',\n",
       " 'Manipur',\n",
       " 'Nagaland',\n",
       " 'Arunachal Pradesh',\n",
       " 'Mizoram',\n",
       " 'Andaman & Nicobar Islands']"
      ]
     },
     "execution_count": 2,
     "metadata": {},
     "output_type": "execute_result"
    }
   ],
   "source": [
    "SStateArr=[]\n",
    "for i in soup.select('table#table_id tbody tr td:nth-child(2)'):\n",
    "    SState = i.text\n",
    "    SStateArr.append(SState)\n",
    "\n",
    "SStateArr[0:]"
   ]
  },
  {
   "cell_type": "code",
   "execution_count": 3,
   "id": "a9f3ea7b",
   "metadata": {},
   "outputs": [
    {
     "data": {
      "text/plain": [
       "['2,632,792',\n",
       " '1,630,208',\n",
       " '1,584,764',\n",
       " '1,502,899',\n",
       " '1,493,127',\n",
       " '1,089,898',\n",
       " '942,586',\n",
       " '862,957',\n",
       " '861,031',\n",
       " '809,592',\n",
       " '781,653',\n",
       " '774,870',\n",
       " '734,163',\n",
       " '530,363',\n",
       " '526,376',\n",
       " '487,805',\n",
       " '315,881',\n",
       " '304,063',\n",
       " '297,204',\n",
       " '245,895',\n",
       " '155,956',\n",
       " '153,845',\n",
       " '73,170',\n",
       " '49,845',\n",
       " '42,114',\n",
       " '34,433',\n",
       " '33,481',\n",
       " '28,723',\n",
       " '27,870',\n",
       " '27,283',\n",
       " '24,603',\n",
       " '22,287',\n",
       " '-']"
      ]
     },
     "execution_count": 3,
     "metadata": {},
     "output_type": "execute_result"
    }
   ],
   "source": [
    "SGSDP18t19Arr=[]\n",
    "for i in soup.select('table#table_id tbody tr td:nth-child(4)'):\n",
    "    SGSDP18t19 = i.text\n",
    "    SGSDP18t19Arr.append(SGSDP18t19)\n",
    "\n",
    "SGSDP18t19Arr[0:]"
   ]
  },
  {
   "cell_type": "code",
   "execution_count": 4,
   "id": "51efa7d2",
   "metadata": {},
   "outputs": [
    {
     "data": {
      "text/plain": [
       "['-',\n",
       " '1,312,929',\n",
       " '1,166,817',\n",
       " '-',\n",
       " '1,156,039',\n",
       " '793,223',\n",
       " '711,627',\n",
       " '672,018',\n",
       " '663,258',\n",
       " '561,801',\n",
       " '-',\n",
       " '634,408',\n",
       " '572,240',\n",
       " '414,977',\n",
       " '418,868',\n",
       " '396,499',\n",
       " '-',\n",
       " '243,477',\n",
       " '240,036',\n",
       " '-',\n",
       " '-',\n",
       " '124,403',\n",
       " '63,408',\n",
       " '40,583',\n",
       " '-',\n",
       " '25,093',\n",
       " '26,695',\n",
       " '20,017',\n",
       " '20,673',\n",
       " '-',\n",
       " '-',\n",
       " '18,797',\n",
       " '-']"
      ]
     },
     "execution_count": 4,
     "metadata": {},
     "output_type": "execute_result"
    }
   ],
   "source": [
    "SGSDP19t20Arr=[]\n",
    "for i in soup.select('table#table_id tbody tr td:nth-child(7)'):\n",
    "    SGSDP19t20 = i.text\n",
    "    SGSDP19t20Arr.append(SGSDP19t20)\n",
    "\n",
    "SGSDP19t20Arr[0:]"
   ]
  },
  {
   "cell_type": "code",
   "execution_count": 5,
   "id": "4568c9c5",
   "metadata": {},
   "outputs": [
    {
     "data": {
      "text/plain": [
       "['13.94%',\n",
       " '8.63%',\n",
       " '8.39%',\n",
       " '7.96%',\n",
       " '7.91%',\n",
       " '5.77%',\n",
       " '4.99%',\n",
       " '4.57%',\n",
       " '4.56%',\n",
       " '4.29%',\n",
       " '4.14%',\n",
       " '4.10%',\n",
       " '3.89%',\n",
       " '2.81%',\n",
       " '2.79%',\n",
       " '2.58%',\n",
       " '1.67%',\n",
       " '1.61%',\n",
       " '1.57%',\n",
       " '1.30%',\n",
       " '0.83%',\n",
       " '0.81%',\n",
       " '0.39%',\n",
       " '0.26%',\n",
       " '0.22%',\n",
       " '0.18%',\n",
       " '0.18%',\n",
       " '0.15%',\n",
       " '0.15%',\n",
       " '0.14%',\n",
       " '0.13%',\n",
       " '0.12%',\n",
       " '-']"
      ]
     },
     "execution_count": 5,
     "metadata": {},
     "output_type": "execute_result"
    }
   ],
   "source": [
    "ShareArr=[]\n",
    "for i in soup.select('table#table_id tbody tr td:nth-child(5)'):\n",
    "    Share = i.text\n",
    "    ShareArr.append(Share)\n",
    "\n",
    "ShareArr[0:]"
   ]
  },
  {
   "cell_type": "code",
   "execution_count": 6,
   "id": "6e131ea0",
   "metadata": {},
   "outputs": [
    {
     "data": {
      "text/plain": [
       "['399.921',\n",
       " '247.629',\n",
       " '240.726',\n",
       " '228.290',\n",
       " '226.806',\n",
       " '165.556',\n",
       " '143.179',\n",
       " '131.083',\n",
       " '130.791',\n",
       " '122.977',\n",
       " '118.733',\n",
       " '117.703',\n",
       " '111.519',\n",
       " '80.562',\n",
       " '79.957',\n",
       " '74.098',\n",
       " '47.982',\n",
       " '46.187',\n",
       " '45.145',\n",
       " '37.351',\n",
       " '23.690',\n",
       " '23.369',\n",
       " '11.115',\n",
       " '7.571',\n",
       " '6.397',\n",
       " '5.230',\n",
       " '5.086',\n",
       " '4.363',\n",
       " '4.233',\n",
       " '4.144',\n",
       " '3.737',\n",
       " '3.385',\n",
       " '-']"
      ]
     },
     "execution_count": 6,
     "metadata": {},
     "output_type": "execute_result"
    }
   ],
   "source": [
    "GDPArr=[]\n",
    "for i in soup.select('table#table_id tbody tr td:nth-child(6)'):\n",
    "    GDP = i.text\n",
    "    GDPArr.append(GDP)\n",
    "\n",
    "GDPArr[0:]"
   ]
  },
  {
   "cell_type": "code",
   "execution_count": null,
   "id": "4ad43d73",
   "metadata": {},
   "outputs": [],
   "source": []
  }
 ],
 "metadata": {
  "kernelspec": {
   "display_name": "Python 3 (ipykernel)",
   "language": "python",
   "name": "python3"
  },
  "language_info": {
   "codemirror_mode": {
    "name": "ipython",
    "version": 3
   },
   "file_extension": ".py",
   "mimetype": "text/x-python",
   "name": "python",
   "nbconvert_exporter": "python",
   "pygments_lexer": "ipython3",
   "version": "3.9.12"
  }
 },
 "nbformat": 4,
 "nbformat_minor": 5
}
